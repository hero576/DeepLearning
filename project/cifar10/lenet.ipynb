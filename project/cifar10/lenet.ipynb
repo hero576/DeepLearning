{
 "cells": [
  {
   "cell_type": "code",
   "execution_count": 1,
   "metadata": {
    "collapsed": true
   },
   "outputs": [],
   "source": [
    "import torch\n",
    "from torch.utils.data import DataLoader\n",
    "from torchvision import transforms,datasets\n",
    "import sys\n",
    "sys.path.insert(0,'..')\n",
    "from Net.LeNet import Lenet5\n",
    "from torch import nn,optim"
   ]
  },
  {
   "cell_type": "code",
   "execution_count": 2,
   "outputs": [
    {
     "name": "stdout",
     "output_type": "stream",
     "text": [
      "Files already downloaded and verified\n",
      "Files already downloaded and verified\n"
     ]
    }
   ],
   "source": [
    "cifar_train = datasets.CIFAR10('../../data',train=True,transform=transforms.Compose([\n",
    "    transforms.Resize([32,32]),\n",
    "    transforms.ToTensor(),\n",
    "]),download=True)\n",
    "\n",
    "cifar_train_loader = DataLoader(cifar_train,batch_size=32,shuffle=True)\n",
    "\n",
    "\n",
    "cifar_val = datasets.CIFAR10('../../data',train=False,transform=transforms.Compose([\n",
    "    transforms.Resize([32,32]),\n",
    "    transforms.ToTensor(),\n",
    "]),download=True)\n",
    "\n",
    "cifar_val_loader = DataLoader(cifar_val,batch_size=32,shuffle=True)"
   ],
   "metadata": {
    "collapsed": false,
    "pycharm": {
     "name": "#%%\n"
    }
   }
  },
  {
   "cell_type": "code",
   "execution_count": 3,
   "outputs": [
    {
     "name": "stdout",
     "output_type": "stream",
     "text": [
      "torch.Size([32, 3, 32, 32])\n",
      "torch.Size([32])\n"
     ]
    }
   ],
   "source": [
    "x,label = iter(cifar_train_loader).__next__()\n",
    "print(x.shape)\n",
    "print(label.shape)\n"
   ],
   "metadata": {
    "collapsed": false,
    "pycharm": {
     "name": "#%%\n"
    }
   }
  },
  {
   "cell_type": "code",
   "execution_count": 4,
   "outputs": [
    {
     "name": "stdout",
     "output_type": "stream",
     "text": [
      "0 1.520047903060913 0.449\n",
      "1 1.2001128196716309 0.493\n",
      "2 1.37442147731781 0.5157\n",
      "3 1.3497627973556519 0.5226\n",
      "4 1.318881630897522 0.5327\n",
      "5 1.1945761442184448 0.5406\n",
      "6 1.8088579177856445 0.5433\n",
      "7 1.098976731300354 0.5497\n",
      "8 0.969721794128418 0.545\n",
      "9 0.8313917517662048 0.5475\n",
      "10 0.7886358499526978 0.5446\n",
      "11 0.7103965282440186 0.551\n",
      "12 1.5742465257644653 0.5429\n",
      "13 1.0110360383987427 0.5487\n",
      "14 1.3027980327606201 0.5457\n",
      "15 1.0324411392211914 0.5453\n",
      "16 1.1420698165893555 0.5424\n",
      "17 0.5199769735336304 0.5391\n",
      "18 1.215710163116455 0.5431\n",
      "19 0.9014406204223633 0.5368\n",
      "20 0.7626002430915833 0.5381\n",
      "21 0.5327937006950378 0.5347\n",
      "22 0.6115450263023376 0.5361\n",
      "23 1.2290675640106201 0.537\n",
      "24 1.0977609157562256 0.5341\n",
      "25 0.7408564686775208 0.5304\n",
      "26 0.9391878843307495 0.5386\n",
      "27 0.9733042120933533 0.5321\n",
      "28 0.6684595942497253 0.5363\n",
      "29 0.3658733069896698 0.5311\n",
      "30 0.4740138053894043 0.5333\n",
      "31 0.9838484525680542 0.5393\n",
      "32 1.5897284746170044 0.5342\n",
      "33 0.6348875761032104 0.53\n",
      "34 0.6112146377563477 0.5288\n",
      "35 0.8208361268043518 0.5279\n",
      "36 0.9789137840270996 0.5264\n",
      "37 0.5123600363731384 0.523\n",
      "38 0.9355824589729309 0.5239\n",
      "39 0.5525237321853638 0.5262\n",
      "40 0.7633206844329834 0.5237\n",
      "41 1.4786978960037231 0.5192\n",
      "42 0.8048101663589478 0.5275\n",
      "43 0.3338261842727661 0.5247\n",
      "44 0.9049890041351318 0.5155\n",
      "45 1.0142786502838135 0.5186\n",
      "46 0.6894196271896362 0.5184\n",
      "47 0.7303295731544495 0.5187\n",
      "48 0.7600099444389343 0.5177\n",
      "49 0.783082127571106 0.5188\n",
      "50 0.9838002920150757 0.5238\n",
      "51 0.4413939416408539 0.5184\n",
      "52 0.7060632109642029 0.5119\n",
      "53 0.7143874168395996 0.5127\n",
      "54 1.0001766681671143 0.5112\n",
      "55 0.9763631820678711 0.5162\n",
      "56 0.5251219868659973 0.5153\n",
      "57 0.6924607753753662 0.5077\n",
      "58 0.5427049398422241 0.5092\n",
      "59 0.33992812037467957 0.5122\n",
      "60 0.4683358669281006 0.5063\n",
      "61 0.43149834871292114 0.5114\n",
      "62 0.8603687286376953 0.5085\n",
      "63 0.5825667977333069 0.5013\n",
      "64 0.7557735443115234 0.5053\n",
      "65 0.5747057199478149 0.5059\n",
      "66 0.4707072675228119 0.5025\n",
      "67 1.058377742767334 0.5057\n",
      "68 0.504966139793396 0.5051\n",
      "69 0.7188549041748047 0.504\n",
      "70 0.5594351291656494 0.5084\n",
      "71 0.8404954671859741 0.5042\n",
      "72 0.25222378969192505 0.5057\n",
      "73 0.6660913228988647 0.505\n",
      "74 0.6092129945755005 0.5026\n",
      "75 0.5036616325378418 0.4918\n",
      "76 0.5664179921150208 0.4993\n",
      "77 0.6892733573913574 0.5022\n",
      "78 0.5183310508728027 0.5003\n",
      "79 0.40148675441741943 0.4991\n",
      "80 0.461479127407074 0.4994\n",
      "81 0.5080682635307312 0.5047\n",
      "82 0.7883214354515076 0.4992\n",
      "83 0.6589273810386658 0.4992\n",
      "84 0.6536844968795776 0.5056\n",
      "85 0.4076099991798401 0.4989\n",
      "86 0.9692380428314209 0.4967\n",
      "87 0.4539942145347595 0.5021\n",
      "88 0.5727831125259399 0.5042\n",
      "89 0.8880384564399719 0.4991\n",
      "90 0.5374990701675415 0.4982\n",
      "91 0.6587690711021423 0.4884\n",
      "92 0.454211562871933 0.4959\n",
      "93 0.2728414833545685 0.496\n",
      "94 0.39630934596061707 0.4955\n",
      "95 0.27476760745048523 0.4954\n",
      "96 0.2849693298339844 0.4965\n",
      "97 0.3929268717765808 0.4916\n",
      "98 0.3102150559425354 0.492\n",
      "99 0.8776147365570068 0.4923\n"
     ]
    }
   ],
   "source": [
    "device = torch.device(\"cuda\")\n",
    "model = Lenet5().to(device)\n",
    "criteon = nn.CrossEntropyLoss()\n",
    "optimizer = optim.Adam(model.parameters(),lr=1e-3)\n",
    "for epoch in range(100):\n",
    "    model.train()\n",
    "    for batchidx,(x,label) in enumerate(cifar_train_loader):\n",
    "        x,label = x.to(device),label.to(device)\n",
    "        y = model.forward(x)\n",
    "        loss = criteon(y,label)\n",
    "        optimizer.zero_grad()\n",
    "        loss.backward()\n",
    "        optimizer.step()\n",
    "    model.eval()\n",
    "    with torch.no_grad():\n",
    "        total_correct = 0\n",
    "        total_num = 0\n",
    "        for batchidx,(x,label) in enumerate(cifar_val_loader):\n",
    "            x,label = x.to(device),label.to(device)\n",
    "            y = model(x)\n",
    "            pred = y.argmax(dim=1)\n",
    "            total_correct += torch.eq(pred,label).float().sum().item()\n",
    "            total_num += x.size(0)\n",
    "        acc = total_correct/total_num\n",
    "        print(epoch,loss.item(),acc)"
   ],
   "metadata": {
    "collapsed": false,
    "pycharm": {
     "name": "#%%\n"
    }
   }
  },
  {
   "cell_type": "code",
   "execution_count": null,
   "outputs": [],
   "source": [],
   "metadata": {
    "collapsed": false,
    "pycharm": {
     "name": "#%%\n"
    }
   }
  },
  {
   "cell_type": "code",
   "execution_count": null,
   "outputs": [],
   "source": [],
   "metadata": {
    "collapsed": false,
    "pycharm": {
     "name": "#%%\n"
    }
   }
  },
  {
   "cell_type": "code",
   "execution_count": null,
   "outputs": [],
   "source": [],
   "metadata": {
    "collapsed": false,
    "pycharm": {
     "name": "#%%\n"
    }
   }
  },
  {
   "cell_type": "code",
   "execution_count": null,
   "outputs": [],
   "source": [],
   "metadata": {
    "collapsed": false,
    "pycharm": {
     "name": "#%%\n"
    }
   }
  },
  {
   "cell_type": "code",
   "execution_count": null,
   "outputs": [],
   "source": [],
   "metadata": {
    "collapsed": false,
    "pycharm": {
     "name": "#%%\n"
    }
   }
  },
  {
   "cell_type": "code",
   "execution_count": null,
   "outputs": [],
   "source": [],
   "metadata": {
    "collapsed": false,
    "pycharm": {
     "name": "#%%\n"
    }
   }
  }
 ],
 "metadata": {
  "kernelspec": {
   "name": "pycharm-af156c50",
   "language": "python",
   "display_name": "PyCharm (DeepLearning)"
  },
  "language_info": {
   "codemirror_mode": {
    "name": "ipython",
    "version": 2
   },
   "file_extension": ".py",
   "mimetype": "text/x-python",
   "name": "python",
   "nbconvert_exporter": "python",
   "pygments_lexer": "ipython2",
   "version": "2.7.6"
  }
 },
 "nbformat": 4,
 "nbformat_minor": 0
}
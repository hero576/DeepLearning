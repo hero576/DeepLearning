{
 "cells": [
  {
   "cell_type": "code",
   "execution_count": null,
   "metadata": {
    "pycharm": {
     "name": "#%%\n"
    }
   },
   "outputs": [],
   "source": [
    "from keras.models import Sequential\n",
    "from keras.layers import Dense,Activation\n",
    "import numpy as np\n",
    "import matplotlib.pylab as plt"
   ]
  },
  {
   "cell_type": "code",
   "execution_count": 2,
   "metadata": {
    "pycharm": {
     "name": "#%%训练样本\n"
    }
   },
   "outputs": [],
   "source": [
    "x_train = np.array([[1,1],[0,0],[0,1],[1,0]])\n",
    "y_train = np.array([[0],[0],[1],[1]])"
   ]
  },
  {
   "cell_type": "code",
   "execution_count": 3,
   "metadata": {
    "pycharm": {
     "name": "#%%模型\n"
    }
   },
   "outputs": [],
   "source": [
    "model1 = Sequential()\n",
    "model1.add(Dense(units=2,input_dim=2))\n",
    "model1.add(Activation(\"relu\"))\n",
    "model1.add(Dense(units=1))\n",
    "model1.add(Activation(\"sigmoid\"))\n",
    "model1.compile(loss=\"binary_crossentropy\",optimizer=\"adam\",metrics=[\"accuracy\"])"
   ]
  },
  {
   "cell_type": "code",
   "execution_count": null,
   "metadata": {
    "pycharm": {
     "name": "#%%训练\n"
    },
    "scrolled": true
   },
   "outputs": [],
   "source": [
    "hist1 = model1.fit(x_train,y_train,epochs=5000,batch_size=4,verbose=2)"
   ]
  },
  {
   "cell_type": "code",
   "execution_count": 5,
   "metadata": {
    "pycharm": {
     "name": "#%%展示损失下降的效果\n"
    }
   },
   "outputs": [
    {
     "data": {
      "image/png": "[encoded data removed]",
      "text/plain": [
       "<Figure size 432x288 with 1 Axes>"
      ]
     },
     "metadata": {
      "needs_background": "light"
     },
     "output_type": "display_data"
    }
   ],
   "source": [
    "plt.scatter(range(len(hist1.history['loss'])),hist1.history['loss'])\n",
    "plt.show()"
   ]
  },
  {
   "cell_type": "code",
   "execution_count": 6,
   "metadata": {
    "pycharm": {
     "name": "#%%\n"
    }
   },
   "outputs": [
    {
     "name": "stdout",
     "output_type": "stream",
     "text": [
      "1/1 [==============================] - 0s 2ms/step - loss: 0.4788 - accuracy: 0.7500\n",
      "[0.47879713773727417, 0.75]\n"
     ]
    }
   ],
   "source": [
    "loss_metrics = model1.evaluate(x_train,y_train)\n",
    "print(loss_metrics)"
   ]
  },
  {
   "cell_type": "code",
   "execution_count": 7,
   "metadata": {},
   "outputs": [
    {
     "name": "stdout",
     "output_type": "stream",
     "text": [
      "[[0.33520392]\n",
      " [0.33520392]\n",
      " [0.99439335]\n",
      " [0.33520392]]\n"
     ]
    }
   ],
   "source": [
    "print(model1.predict(x_train))"
   ]
  },
  {
   "cell_type": "markdown",
   "metadata": {
    "pycharm": {
     "name": "#%% md\n"
    }
   },
   "source": [
    "- 模型没有正确分类，准确率0.75，损失很大：0.48，应该是生成了一条斜线\n",
    "- 这里有时会"
   ]
  },
  {
   "cell_type": "code",
   "execution_count": 8,
   "metadata": {
    "pycharm": {
     "name": "#%%重新设计模型\n"
    }
   },
   "outputs": [],
   "source": [
    "model2=Sequential()\n",
    "model2.add(Dense(units=3,input_dim=2))\n",
    "model2.add(Activation(\"relu\"))\n",
    "model2.add(Dense(units=1))\n",
    "model2.add(Activation(\"sigmoid\"))\n",
    "model2.compile(loss=\"binary_crossentropy\",optimizer=\"adam\",metrics=['accuracy'])"
   ]
  },
  {
   "cell_type": "code",
   "execution_count": null,
   "metadata": {
    "pycharm": {
     "name": "#%%\n"
    },
    "scrolled": false
   },
   "outputs": [],
   "source": [
    "hist2=model2.fit(x_train,y_train,epochs=7000)"
   ]
  },
  {
   "cell_type": "code",
   "execution_count": 10,
   "metadata": {
    "pycharm": {
     "name": "#%%\n"
    }
   },
   "outputs": [
    {
     "data": {
      "text/plain": [
       "<matplotlib.collections.PathCollection at 0x1b35c7e35c0>"
      ]
     },
     "execution_count": 10,
     "metadata": {},
     "output_type": "execute_result"
    },
    {
     "data": {
      "image/png": "[encoded data removed]",
      "text/plain": [
       "<Figure size 432x288 with 1 Axes>"
      ]
     },
     "metadata": {
      "needs_background": "light"
     },
     "output_type": "display_data"
    }
   ],
   "source": [
    "plt.scatter(range(len(hist2.history['loss'])),hist2.history['loss'])"
   ]
  },
  {
   "cell_type": "code",
   "execution_count": 11,
   "metadata": {
    "pycharm": {
     "name": "#%%\n"
    }
   },
   "outputs": [
    {
     "name": "stdout",
     "output_type": "stream",
     "text": [
      "1/1 [==============================] - 0s 2ms/step - loss: 0.0054 - accuracy: 1.0000\n",
      "[0.00536940386518836, 1.0]\n"
     ]
    }
   ],
   "source": [
    "loss_metrics = model2.evaluate(x_train,y_train)\n",
    "print(loss_metrics)"
   ]
  },
  {
   "cell_type": "code",
   "execution_count": 12,
   "metadata": {},
   "outputs": [
    {
     "name": "stdout",
     "output_type": "stream",
     "text": [
      "[[0.00867332]\n",
      " [0.00867045]\n",
      " [0.9979723 ]\n",
      " [0.9979736 ]]\n"
     ]
    }
   ],
   "source": [
    "print(model2.predict(x_train))"
   ]
  },
  {
   "cell_type": "markdown",
   "metadata": {},
   "source": [
    "- 增加了隐藏层的神经元个数，模型就可以完成任务，训练7000次损失降到了0.0054"
   ]
  },
  {
   "cell_type": "code",
   "execution_count": 15,
   "metadata": {
    "pycharm": {
     "name": "#%%\n"
    }
   },
   "outputs": [],
   "source": [
    "model3=Sequential()\n",
    "model3.add(Dense(units=3,input_dim=2))\n",
    "model3.add(Activation(\"relu\"))\n",
    "model3.add(Dense(units=3))\n",
    "model3.add(Activation(\"relu\"))\n",
    "model3.add(Dense(units=1))\n",
    "model3.add(Activation(\"sigmoid\"))\n",
    "model3.compile(loss=\"binary_crossentropy\",optimizer=\"adam\",metrics=['accuracy'])"
   ]
  },
  {
   "cell_type": "code",
   "execution_count": null,
   "metadata": {
    "pycharm": {
     "name": "#%%\n"
    },
    "scrolled": true
   },
   "outputs": [],
   "source": [
    "hist3=model3.fit(x_train,y_train,epochs=5000)"
   ]
  },
  {
   "cell_type": "code",
   "execution_count": 17,
   "metadata": {
    "pycharm": {
     "name": "#%%\n"
    }
   },
   "outputs": [
    {
     "data": {
      "text/plain": [
       "<matplotlib.collections.PathCollection at 0x1b37647de80>"
      ]
     },
     "execution_count": 17,
     "metadata": {},
     "output_type": "execute_result"
    },
    {
     "data": {
      "image/png": "[encoded data removed]",
      "text/plain": [
       "<Figure size 432x288 with 1 Axes>"
      ]
     },
     "metadata": {
      "needs_background": "light"
     },
     "output_type": "display_data"
    }
   ],
   "source": [
    "plt.scatter(range(len(hist3.history['loss'])),hist3.history['loss'])"
   ]
  },
  {
   "cell_type": "code",
   "execution_count": 18,
   "metadata": {
    "pycharm": {
     "name": "#%%\n"
    }
   },
   "outputs": [
    {
     "name": "stdout",
     "output_type": "stream",
     "text": [
      "1/1 [==============================] - 0s 2ms/step - loss: 0.0157 - accuracy: 1.0000\n",
      "[0.015655092895030975, 1.0]\n"
     ]
    }
   ],
   "source": [
    "loss_metrics = model3.evaluate(x_train,y_train)\n",
    "print(loss_metrics)"
   ]
  },
  {
   "cell_type": "code",
   "execution_count": 19,
   "metadata": {},
   "outputs": [
    {
     "name": "stdout",
     "output_type": "stream",
     "text": [
      "[[0.00834057]\n",
      " [0.03086693]\n",
      " [0.98861814]\n",
      " [0.9886208 ]]\n"
     ]
    }
   ],
   "source": [
    "print(model3.predict(x_train))"
   ]
  },
  {
   "cell_type": "markdown",
   "metadata": {
    "pycharm": {
     "name": "#%%\n"
    }
   },
   "source": [
    "- 利用了3层网络，2层隐藏层，1层输出层，同样可以完成任务，相比于两层网络，训练需要更多次迭代"
   ]
  }
 ],
 "metadata": {
  "kernelspec": {
   "display_name": "Python 3",
   "language": "python",
   "name": "python3"
  },
  "language_info": {
   "codemirror_mode": {
    "name": "ipython",
    "version": 3
   },
   "file_extension": ".py",
   "mimetype": "text/x-python",
   "name": "python",
   "nbconvert_exporter": "python",
   "pygments_lexer": "ipython3",
   "version": "3.7.0"
  }
 },
 "nbformat": 4,
 "nbformat_minor": 1
}

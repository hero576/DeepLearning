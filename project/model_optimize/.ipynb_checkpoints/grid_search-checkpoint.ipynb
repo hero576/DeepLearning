{
 "cells": [
  {
   "cell_type": "code",
   "execution_count": 2,
   "metadata": {},
   "outputs": [],
   "source": [
    "import numpy as np\n",
    "from keras.models import Sequential\n",
    "from keras.layers import Dense\n",
    "from sklearn.model_selection import StratifiedKFold\n",
    "from sklearn.model_selection import train_test_split  # 数据切割\n",
    "from keras.wrappers.scikit_learn import KerasClassifier #分类\n",
    "from sklearn.model_selection import cross_val_score #交叉验证\n",
    "from sklearn.model_selection import GridSearchCV #搜索最优参数\n",
    "np.random.seed(17)"
   ]
  },
  {
   "cell_type": "code",
   "execution_count": 3,
   "metadata": {},
   "outputs": [],
   "source": [
    "# 定于数据载入数据\n",
    "filepath = r\"D:\\code_basket\\python\\DeepLearning\\data\\pima-indians-diabetes.csv\"\n",
    "dataset = np.loadtxt(filepath, encoding=\"utf-8\", delimiter=',')\n",
    "X = dataset[:, 0:8]\n",
    "y = dataset[:, 8]\n",
    "X_train, X_test, y_train, y_test = train_test_split(X, y, test_size=0.2, random_state=7)"
   ]
  },
  {
   "cell_type": "code",
   "execution_count": 4,
   "metadata": {},
   "outputs": [],
   "source": [
    "def build_model():\n",
    "    model = Sequential()\n",
    "    model.add(Dense(12, input_dim=8, activation=\"relu\"))\n",
    "    model.add(Dense(6, activation=\"relu\"))\n",
    "    model.add(Dense(1, activation=\"sigmoid\"))\n",
    "    model.compile(loss=\"mean_squared_error\", optimizer=\"adam\", metrics=[\"accuracy\"])\n",
    "    return model"
   ]
  },
  {
   "cell_type": "code",
   "execution_count": 10,
   "metadata": {},
   "outputs": [],
   "source": [
    "model=KerasClassifier(build_fn=build_model,verbose=0)"
   ]
  },
  {
   "cell_type": "code",
   "execution_count": 14,
   "metadata": {},
   "outputs": [],
   "source": [
    "#构造调试参数，取得识别率最高-最优参数组合\n",
    "param_grid={}\n",
    "# param_grid[\"optimizer\"]=[\"adam\",\"rmsprop\",\"madam\"]\n",
    "param_grid[\"epochs\"]=[10,20]\n",
    "param_grid[\"batch_size\"]=[20]\n",
    "# param_grid[\"init\"]=[\"glorot_uniform\",\"uniform\",\"normal\"]"
   ]
  },
  {
   "cell_type": "code",
   "execution_count": 15,
   "metadata": {},
   "outputs": [],
   "source": [
    "grid=GridSearchCV(estimator=model,param_grid=param_grid)#搜索 最优"
   ]
  },
  {
   "cell_type": "code",
   "execution_count": 16,
   "metadata": {},
   "outputs": [],
   "source": [
    "results=grid.fit(X,y) #训练"
   ]
  },
  {
   "cell_type": "code",
   "execution_count": 17,
   "metadata": {},
   "outputs": [
    {
     "name": "stdout",
     "output_type": "stream",
     "text": [
      "最优0.652344,适用参数{'batch_size': 20, 'epochs': 10}\n",
      "0.652344,0.030425,{'batch_size': 20, 'epochs': 10}\n",
      "0.649740,0.023510,{'batch_size': 20, 'epochs': 20}\n"
     ]
    }
   ],
   "source": [
    "print(\"最优%f,适用参数%s\"%(results.best_score_,results.best_params_))\n",
    "means=results.cv_results_[\"mean_test_score\"]\n",
    "stds=results.cv_results_[\"std_test_score\"]\n",
    "params=results.cv_results_[\"params\"]\n",
    "for mean,std,param in zip(means,stds,params):\n",
    "    print(\"%f,%f,%r\"%(mean,std,param))"
   ]
  },
  {
   "cell_type": "code",
   "execution_count": null,
   "metadata": {},
   "outputs": [],
   "source": []
  },
  {
   "cell_type": "code",
   "execution_count": null,
   "metadata": {},
   "outputs": [],
   "source": []
  },
  {
   "cell_type": "code",
   "execution_count": null,
   "metadata": {},
   "outputs": [],
   "source": []
  },
  {
   "cell_type": "code",
   "execution_count": null,
   "metadata": {},
   "outputs": [],
   "source": []
  },
  {
   "cell_type": "code",
   "execution_count": null,
   "metadata": {},
   "outputs": [],
   "source": []
  },
  {
   "cell_type": "code",
   "execution_count": null,
   "metadata": {},
   "outputs": [],
   "source": []
  },
  {
   "cell_type": "code",
   "execution_count": null,
   "metadata": {},
   "outputs": [],
   "source": []
  },
  {
   "cell_type": "code",
   "execution_count": null,
   "metadata": {},
   "outputs": [],
   "source": []
  },
  {
   "cell_type": "code",
   "execution_count": null,
   "metadata": {},
   "outputs": [],
   "source": []
  },
  {
   "cell_type": "code",
   "execution_count": null,
   "metadata": {},
   "outputs": [],
   "source": []
  }
 ],
 "metadata": {
  "kernelspec": {
   "display_name": "Python 3",
   "language": "python",
   "name": "python3"
  },
  "language_info": {
   "codemirror_mode": {
    "name": "ipython",
    "version": 3
   },
   "file_extension": ".py",
   "mimetype": "text/x-python",
   "name": "python",
   "nbconvert_exporter": "python",
   "pygments_lexer": "ipython3",
   "version": "3.7.0"
  }
 },
 "nbformat": 4,
 "nbformat_minor": 2
}
